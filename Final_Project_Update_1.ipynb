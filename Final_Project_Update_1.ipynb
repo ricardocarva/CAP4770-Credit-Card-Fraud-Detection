{
 "cells": [
  {
   "cell_type": "code",
   "execution_count": 831,
   "metadata": {
    "collapsed": true,
    "ExecuteTime": {
     "end_time": "2023-08-08T18:17:17.062338200Z",
     "start_time": "2023-08-08T18:17:17.003341200Z"
    }
   },
   "outputs": [],
   "source": [
    "#import necessary libraries\n",
    "import numpy as np\n",
    "import pandas as pd\n",
    "import matplotlib.pyplot as plt\n",
    "import seaborn as sns\n",
    "import plotly.express as px\n",
    "from sklearn.model_selection import train_test_split\n",
    "from sklearn.model_selection import StratifiedKFold\n",
    "from imblearn.over_sampling import SMOTE\n",
    "from imblearn.under_sampling import NearMiss\n",
    "from sklearn.metrics import accuracy_score, precision_score, classification_report\n",
    "from sklearn.metrics import recall_score, f1_score, average_precision_score\n",
    "from sklearn.ensemble import RandomForestClassifier\n",
    "from xgboost import XGBClassifier\n",
    "from sklearn.metrics import PrecisionRecallDisplay, precision_recall_curve\n",
    "\n",
    "from matplotlib import gridspec"
   ]
  },
  {
   "cell_type": "code",
   "execution_count": 832,
   "outputs": [],
   "source": [
    "#load dataset\n",
    "data = pd.read_csv(\"./creditcard.csv\")"
   ],
   "metadata": {
    "collapsed": false,
    "ExecuteTime": {
     "end_time": "2023-08-08T18:17:18.745838400Z",
     "start_time": "2023-08-08T18:17:17.011338600Z"
    }
   }
  },
  {
   "cell_type": "code",
   "execution_count": 833,
   "outputs": [
    {
     "name": "stdout",
     "output_type": "stream",
     "text": [
      "(284807, 31)\n"
     ]
    }
   ],
   "source": [
    "# get the shape of the data frame\n",
    "print(data.shape)"
   ],
   "metadata": {
    "collapsed": false,
    "ExecuteTime": {
     "end_time": "2023-08-08T18:17:18.761875800Z",
     "start_time": "2023-08-08T18:17:18.747340400Z"
    }
   }
  },
  {
   "cell_type": "code",
   "execution_count": 833,
   "outputs": [],
   "source": [],
   "metadata": {
    "collapsed": false,
    "ExecuteTime": {
     "end_time": "2023-08-08T18:17:18.806149300Z",
     "start_time": "2023-08-08T18:17:18.762376600Z"
    }
   }
  },
  {
   "cell_type": "code",
   "execution_count": 834,
   "outputs": [
    {
     "data": {
      "application/vnd.plotly.v1+json": {
       "data": [
        {
         "domain": {
          "x": [
           0.0,
           1.0
          ],
          "y": [
           0.0,
           1.0
          ]
         },
         "hovertemplate": "label=%{label}<br>value=%{value}<extra></extra>",
         "labels": [
          "Valid",
          "Fraud"
         ],
         "legendgroup": "",
         "name": "",
         "showlegend": true,
         "values": [
          284315,
          492
         ],
         "type": "pie"
        }
       ],
       "layout": {
        "template": {
         "data": {
          "histogram2dcontour": [
           {
            "type": "histogram2dcontour",
            "colorbar": {
             "outlinewidth": 0,
             "ticks": ""
            },
            "colorscale": [
             [
              0.0,
              "#0d0887"
             ],
             [
              0.1111111111111111,
              "#46039f"
             ],
             [
              0.2222222222222222,
              "#7201a8"
             ],
             [
              0.3333333333333333,
              "#9c179e"
             ],
             [
              0.4444444444444444,
              "#bd3786"
             ],
             [
              0.5555555555555556,
              "#d8576b"
             ],
             [
              0.6666666666666666,
              "#ed7953"
             ],
             [
              0.7777777777777778,
              "#fb9f3a"
             ],
             [
              0.8888888888888888,
              "#fdca26"
             ],
             [
              1.0,
              "#f0f921"
             ]
            ]
           }
          ],
          "choropleth": [
           {
            "type": "choropleth",
            "colorbar": {
             "outlinewidth": 0,
             "ticks": ""
            }
           }
          ],
          "histogram2d": [
           {
            "type": "histogram2d",
            "colorbar": {
             "outlinewidth": 0,
             "ticks": ""
            },
            "colorscale": [
             [
              0.0,
              "#0d0887"
             ],
             [
              0.1111111111111111,
              "#46039f"
             ],
             [
              0.2222222222222222,
              "#7201a8"
             ],
             [
              0.3333333333333333,
              "#9c179e"
             ],
             [
              0.4444444444444444,
              "#bd3786"
             ],
             [
              0.5555555555555556,
              "#d8576b"
             ],
             [
              0.6666666666666666,
              "#ed7953"
             ],
             [
              0.7777777777777778,
              "#fb9f3a"
             ],
             [
              0.8888888888888888,
              "#fdca26"
             ],
             [
              1.0,
              "#f0f921"
             ]
            ]
           }
          ],
          "heatmap": [
           {
            "type": "heatmap",
            "colorbar": {
             "outlinewidth": 0,
             "ticks": ""
            },
            "colorscale": [
             [
              0.0,
              "#0d0887"
             ],
             [
              0.1111111111111111,
              "#46039f"
             ],
             [
              0.2222222222222222,
              "#7201a8"
             ],
             [
              0.3333333333333333,
              "#9c179e"
             ],
             [
              0.4444444444444444,
              "#bd3786"
             ],
             [
              0.5555555555555556,
              "#d8576b"
             ],
             [
              0.6666666666666666,
              "#ed7953"
             ],
             [
              0.7777777777777778,
              "#fb9f3a"
             ],
             [
              0.8888888888888888,
              "#fdca26"
             ],
             [
              1.0,
              "#f0f921"
             ]
            ]
           }
          ],
          "heatmapgl": [
           {
            "type": "heatmapgl",
            "colorbar": {
             "outlinewidth": 0,
             "ticks": ""
            },
            "colorscale": [
             [
              0.0,
              "#0d0887"
             ],
             [
              0.1111111111111111,
              "#46039f"
             ],
             [
              0.2222222222222222,
              "#7201a8"
             ],
             [
              0.3333333333333333,
              "#9c179e"
             ],
             [
              0.4444444444444444,
              "#bd3786"
             ],
             [
              0.5555555555555556,
              "#d8576b"
             ],
             [
              0.6666666666666666,
              "#ed7953"
             ],
             [
              0.7777777777777778,
              "#fb9f3a"
             ],
             [
              0.8888888888888888,
              "#fdca26"
             ],
             [
              1.0,
              "#f0f921"
             ]
            ]
           }
          ],
          "contourcarpet": [
           {
            "type": "contourcarpet",
            "colorbar": {
             "outlinewidth": 0,
             "ticks": ""
            }
           }
          ],
          "contour": [
           {
            "type": "contour",
            "colorbar": {
             "outlinewidth": 0,
             "ticks": ""
            },
            "colorscale": [
             [
              0.0,
              "#0d0887"
             ],
             [
              0.1111111111111111,
              "#46039f"
             ],
             [
              0.2222222222222222,
              "#7201a8"
             ],
             [
              0.3333333333333333,
              "#9c179e"
             ],
             [
              0.4444444444444444,
              "#bd3786"
             ],
             [
              0.5555555555555556,
              "#d8576b"
             ],
             [
              0.6666666666666666,
              "#ed7953"
             ],
             [
              0.7777777777777778,
              "#fb9f3a"
             ],
             [
              0.8888888888888888,
              "#fdca26"
             ],
             [
              1.0,
              "#f0f921"
             ]
            ]
           }
          ],
          "surface": [
           {
            "type": "surface",
            "colorbar": {
             "outlinewidth": 0,
             "ticks": ""
            },
            "colorscale": [
             [
              0.0,
              "#0d0887"
             ],
             [
              0.1111111111111111,
              "#46039f"
             ],
             [
              0.2222222222222222,
              "#7201a8"
             ],
             [
              0.3333333333333333,
              "#9c179e"
             ],
             [
              0.4444444444444444,
              "#bd3786"
             ],
             [
              0.5555555555555556,
              "#d8576b"
             ],
             [
              0.6666666666666666,
              "#ed7953"
             ],
             [
              0.7777777777777778,
              "#fb9f3a"
             ],
             [
              0.8888888888888888,
              "#fdca26"
             ],
             [
              1.0,
              "#f0f921"
             ]
            ]
           }
          ],
          "mesh3d": [
           {
            "type": "mesh3d",
            "colorbar": {
             "outlinewidth": 0,
             "ticks": ""
            }
           }
          ],
          "scatter": [
           {
            "marker": {
             "line": {
              "color": "#283442"
             }
            },
            "type": "scatter"
           }
          ],
          "parcoords": [
           {
            "type": "parcoords",
            "line": {
             "colorbar": {
              "outlinewidth": 0,
              "ticks": ""
             }
            }
           }
          ],
          "scatterpolargl": [
           {
            "type": "scatterpolargl",
            "marker": {
             "colorbar": {
              "outlinewidth": 0,
              "ticks": ""
             }
            }
           }
          ],
          "bar": [
           {
            "error_x": {
             "color": "#f2f5fa"
            },
            "error_y": {
             "color": "#f2f5fa"
            },
            "marker": {
             "line": {
              "color": "rgb(17,17,17)",
              "width": 0.5
             },
             "pattern": {
              "fillmode": "overlay",
              "size": 10,
              "solidity": 0.2
             }
            },
            "type": "bar"
           }
          ],
          "scattergeo": [
           {
            "type": "scattergeo",
            "marker": {
             "colorbar": {
              "outlinewidth": 0,
              "ticks": ""
             }
            }
           }
          ],
          "scatterpolar": [
           {
            "type": "scatterpolar",
            "marker": {
             "colorbar": {
              "outlinewidth": 0,
              "ticks": ""
             }
            }
           }
          ],
          "histogram": [
           {
            "marker": {
             "pattern": {
              "fillmode": "overlay",
              "size": 10,
              "solidity": 0.2
             }
            },
            "type": "histogram"
           }
          ],
          "scattergl": [
           {
            "marker": {
             "line": {
              "color": "#283442"
             }
            },
            "type": "scattergl"
           }
          ],
          "scatter3d": [
           {
            "type": "scatter3d",
            "line": {
             "colorbar": {
              "outlinewidth": 0,
              "ticks": ""
             }
            },
            "marker": {
             "colorbar": {
              "outlinewidth": 0,
              "ticks": ""
             }
            }
           }
          ],
          "scattermapbox": [
           {
            "type": "scattermapbox",
            "marker": {
             "colorbar": {
              "outlinewidth": 0,
              "ticks": ""
             }
            }
           }
          ],
          "scatterternary": [
           {
            "type": "scatterternary",
            "marker": {
             "colorbar": {
              "outlinewidth": 0,
              "ticks": ""
             }
            }
           }
          ],
          "scattercarpet": [
           {
            "type": "scattercarpet",
            "marker": {
             "colorbar": {
              "outlinewidth": 0,
              "ticks": ""
             }
            }
           }
          ],
          "carpet": [
           {
            "aaxis": {
             "endlinecolor": "#A2B1C6",
             "gridcolor": "#506784",
             "linecolor": "#506784",
             "minorgridcolor": "#506784",
             "startlinecolor": "#A2B1C6"
            },
            "baxis": {
             "endlinecolor": "#A2B1C6",
             "gridcolor": "#506784",
             "linecolor": "#506784",
             "minorgridcolor": "#506784",
             "startlinecolor": "#A2B1C6"
            },
            "type": "carpet"
           }
          ],
          "table": [
           {
            "cells": {
             "fill": {
              "color": "#506784"
             },
             "line": {
              "color": "rgb(17,17,17)"
             }
            },
            "header": {
             "fill": {
              "color": "#2a3f5f"
             },
             "line": {
              "color": "rgb(17,17,17)"
             }
            },
            "type": "table"
           }
          ],
          "barpolar": [
           {
            "marker": {
             "line": {
              "color": "rgb(17,17,17)",
              "width": 0.5
             },
             "pattern": {
              "fillmode": "overlay",
              "size": 10,
              "solidity": 0.2
             }
            },
            "type": "barpolar"
           }
          ],
          "pie": [
           {
            "automargin": true,
            "type": "pie"
           }
          ]
         },
         "layout": {
          "autotypenumbers": "strict",
          "colorway": [
           "#636efa",
           "#EF553B",
           "#00cc96",
           "#ab63fa",
           "#FFA15A",
           "#19d3f3",
           "#FF6692",
           "#B6E880",
           "#FF97FF",
           "#FECB52"
          ],
          "font": {
           "color": "#f2f5fa"
          },
          "hovermode": "closest",
          "hoverlabel": {
           "align": "left"
          },
          "paper_bgcolor": "rgb(17,17,17)",
          "plot_bgcolor": "rgb(17,17,17)",
          "polar": {
           "bgcolor": "rgb(17,17,17)",
           "angularaxis": {
            "gridcolor": "#506784",
            "linecolor": "#506784",
            "ticks": ""
           },
           "radialaxis": {
            "gridcolor": "#506784",
            "linecolor": "#506784",
            "ticks": ""
           }
          },
          "ternary": {
           "bgcolor": "rgb(17,17,17)",
           "aaxis": {
            "gridcolor": "#506784",
            "linecolor": "#506784",
            "ticks": ""
           },
           "baxis": {
            "gridcolor": "#506784",
            "linecolor": "#506784",
            "ticks": ""
           },
           "caxis": {
            "gridcolor": "#506784",
            "linecolor": "#506784",
            "ticks": ""
           }
          },
          "coloraxis": {
           "colorbar": {
            "outlinewidth": 0,
            "ticks": ""
           }
          },
          "colorscale": {
           "sequential": [
            [
             0.0,
             "#0d0887"
            ],
            [
             0.1111111111111111,
             "#46039f"
            ],
            [
             0.2222222222222222,
             "#7201a8"
            ],
            [
             0.3333333333333333,
             "#9c179e"
            ],
            [
             0.4444444444444444,
             "#bd3786"
            ],
            [
             0.5555555555555556,
             "#d8576b"
            ],
            [
             0.6666666666666666,
             "#ed7953"
            ],
            [
             0.7777777777777778,
             "#fb9f3a"
            ],
            [
             0.8888888888888888,
             "#fdca26"
            ],
            [
             1.0,
             "#f0f921"
            ]
           ],
           "sequentialminus": [
            [
             0.0,
             "#0d0887"
            ],
            [
             0.1111111111111111,
             "#46039f"
            ],
            [
             0.2222222222222222,
             "#7201a8"
            ],
            [
             0.3333333333333333,
             "#9c179e"
            ],
            [
             0.4444444444444444,
             "#bd3786"
            ],
            [
             0.5555555555555556,
             "#d8576b"
            ],
            [
             0.6666666666666666,
             "#ed7953"
            ],
            [
             0.7777777777777778,
             "#fb9f3a"
            ],
            [
             0.8888888888888888,
             "#fdca26"
            ],
            [
             1.0,
             "#f0f921"
            ]
           ],
           "diverging": [
            [
             0,
             "#8e0152"
            ],
            [
             0.1,
             "#c51b7d"
            ],
            [
             0.2,
             "#de77ae"
            ],
            [
             0.3,
             "#f1b6da"
            ],
            [
             0.4,
             "#fde0ef"
            ],
            [
             0.5,
             "#f7f7f7"
            ],
            [
             0.6,
             "#e6f5d0"
            ],
            [
             0.7,
             "#b8e186"
            ],
            [
             0.8,
             "#7fbc41"
            ],
            [
             0.9,
             "#4d9221"
            ],
            [
             1,
             "#276419"
            ]
           ]
          },
          "xaxis": {
           "gridcolor": "#283442",
           "linecolor": "#506784",
           "ticks": "",
           "title": {
            "standoff": 15
           },
           "zerolinecolor": "#283442",
           "automargin": true,
           "zerolinewidth": 2
          },
          "yaxis": {
           "gridcolor": "#283442",
           "linecolor": "#506784",
           "ticks": "",
           "title": {
            "standoff": 15
           },
           "zerolinecolor": "#283442",
           "automargin": true,
           "zerolinewidth": 2
          },
          "scene": {
           "xaxis": {
            "backgroundcolor": "rgb(17,17,17)",
            "gridcolor": "#506784",
            "linecolor": "#506784",
            "showbackground": true,
            "ticks": "",
            "zerolinecolor": "#C8D4E3",
            "gridwidth": 2
           },
           "yaxis": {
            "backgroundcolor": "rgb(17,17,17)",
            "gridcolor": "#506784",
            "linecolor": "#506784",
            "showbackground": true,
            "ticks": "",
            "zerolinecolor": "#C8D4E3",
            "gridwidth": 2
           },
           "zaxis": {
            "backgroundcolor": "rgb(17,17,17)",
            "gridcolor": "#506784",
            "linecolor": "#506784",
            "showbackground": true,
            "ticks": "",
            "zerolinecolor": "#C8D4E3",
            "gridwidth": 2
           }
          },
          "shapedefaults": {
           "line": {
            "color": "#f2f5fa"
           }
          },
          "annotationdefaults": {
           "arrowcolor": "#f2f5fa",
           "arrowhead": 0,
           "arrowwidth": 1
          },
          "geo": {
           "bgcolor": "rgb(17,17,17)",
           "landcolor": "rgb(17,17,17)",
           "subunitcolor": "#506784",
           "showland": true,
           "showlakes": true,
           "lakecolor": "rgb(17,17,17)"
          },
          "title": {
           "x": 0.05
          },
          "updatemenudefaults": {
           "bgcolor": "#506784",
           "borderwidth": 0
          },
          "sliderdefaults": {
           "bgcolor": "#C8D4E3",
           "borderwidth": 1,
           "bordercolor": "rgb(17,17,17)",
           "tickwidth": 0
          },
          "mapbox": {
           "style": "dark"
          }
         }
        },
        "legend": {
         "tracegroupgap": 0
        },
        "title": {
         "text": "Fraud vs Valid transactions"
        },
        "piecolorway": [
         "orange",
         "blue"
        ],
        "height": 400,
        "width": 600
       },
       "config": {
        "plotlyServerURL": "https://plot.ly"
       }
      },
      "text/html": "<div>                            <div id=\"87752ab8-a058-4564-81ec-d4cf91591609\" class=\"plotly-graph-div\" style=\"height:400px; width:600px;\"></div>            <script type=\"text/javascript\">                require([\"plotly\"], function(Plotly) {                    window.PLOTLYENV=window.PLOTLYENV || {};                                    if (document.getElementById(\"87752ab8-a058-4564-81ec-d4cf91591609\")) {                    Plotly.newPlot(                        \"87752ab8-a058-4564-81ec-d4cf91591609\",                        [{\"domain\":{\"x\":[0.0,1.0],\"y\":[0.0,1.0]},\"hovertemplate\":\"label=%{label}\\u003cbr\\u003evalue=%{value}\\u003cextra\\u003e\\u003c\\u002fextra\\u003e\",\"labels\":[\"Valid\",\"Fraud\"],\"legendgroup\":\"\",\"name\":\"\",\"showlegend\":true,\"values\":[284315,492],\"type\":\"pie\"}],                        {\"template\":{\"data\":{\"histogram2dcontour\":[{\"type\":\"histogram2dcontour\",\"colorbar\":{\"outlinewidth\":0,\"ticks\":\"\"},\"colorscale\":[[0.0,\"#0d0887\"],[0.1111111111111111,\"#46039f\"],[0.2222222222222222,\"#7201a8\"],[0.3333333333333333,\"#9c179e\"],[0.4444444444444444,\"#bd3786\"],[0.5555555555555556,\"#d8576b\"],[0.6666666666666666,\"#ed7953\"],[0.7777777777777778,\"#fb9f3a\"],[0.8888888888888888,\"#fdca26\"],[1.0,\"#f0f921\"]]}],\"choropleth\":[{\"type\":\"choropleth\",\"colorbar\":{\"outlinewidth\":0,\"ticks\":\"\"}}],\"histogram2d\":[{\"type\":\"histogram2d\",\"colorbar\":{\"outlinewidth\":0,\"ticks\":\"\"},\"colorscale\":[[0.0,\"#0d0887\"],[0.1111111111111111,\"#46039f\"],[0.2222222222222222,\"#7201a8\"],[0.3333333333333333,\"#9c179e\"],[0.4444444444444444,\"#bd3786\"],[0.5555555555555556,\"#d8576b\"],[0.6666666666666666,\"#ed7953\"],[0.7777777777777778,\"#fb9f3a\"],[0.8888888888888888,\"#fdca26\"],[1.0,\"#f0f921\"]]}],\"heatmap\":[{\"type\":\"heatmap\",\"colorbar\":{\"outlinewidth\":0,\"ticks\":\"\"},\"colorscale\":[[0.0,\"#0d0887\"],[0.1111111111111111,\"#46039f\"],[0.2222222222222222,\"#7201a8\"],[0.3333333333333333,\"#9c179e\"],[0.4444444444444444,\"#bd3786\"],[0.5555555555555556,\"#d8576b\"],[0.6666666666666666,\"#ed7953\"],[0.7777777777777778,\"#fb9f3a\"],[0.8888888888888888,\"#fdca26\"],[1.0,\"#f0f921\"]]}],\"heatmapgl\":[{\"type\":\"heatmapgl\",\"colorbar\":{\"outlinewidth\":0,\"ticks\":\"\"},\"colorscale\":[[0.0,\"#0d0887\"],[0.1111111111111111,\"#46039f\"],[0.2222222222222222,\"#7201a8\"],[0.3333333333333333,\"#9c179e\"],[0.4444444444444444,\"#bd3786\"],[0.5555555555555556,\"#d8576b\"],[0.6666666666666666,\"#ed7953\"],[0.7777777777777778,\"#fb9f3a\"],[0.8888888888888888,\"#fdca26\"],[1.0,\"#f0f921\"]]}],\"contourcarpet\":[{\"type\":\"contourcarpet\",\"colorbar\":{\"outlinewidth\":0,\"ticks\":\"\"}}],\"contour\":[{\"type\":\"contour\",\"colorbar\":{\"outlinewidth\":0,\"ticks\":\"\"},\"colorscale\":[[0.0,\"#0d0887\"],[0.1111111111111111,\"#46039f\"],[0.2222222222222222,\"#7201a8\"],[0.3333333333333333,\"#9c179e\"],[0.4444444444444444,\"#bd3786\"],[0.5555555555555556,\"#d8576b\"],[0.6666666666666666,\"#ed7953\"],[0.7777777777777778,\"#fb9f3a\"],[0.8888888888888888,\"#fdca26\"],[1.0,\"#f0f921\"]]}],\"surface\":[{\"type\":\"surface\",\"colorbar\":{\"outlinewidth\":0,\"ticks\":\"\"},\"colorscale\":[[0.0,\"#0d0887\"],[0.1111111111111111,\"#46039f\"],[0.2222222222222222,\"#7201a8\"],[0.3333333333333333,\"#9c179e\"],[0.4444444444444444,\"#bd3786\"],[0.5555555555555556,\"#d8576b\"],[0.6666666666666666,\"#ed7953\"],[0.7777777777777778,\"#fb9f3a\"],[0.8888888888888888,\"#fdca26\"],[1.0,\"#f0f921\"]]}],\"mesh3d\":[{\"type\":\"mesh3d\",\"colorbar\":{\"outlinewidth\":0,\"ticks\":\"\"}}],\"scatter\":[{\"marker\":{\"line\":{\"color\":\"#283442\"}},\"type\":\"scatter\"}],\"parcoords\":[{\"type\":\"parcoords\",\"line\":{\"colorbar\":{\"outlinewidth\":0,\"ticks\":\"\"}}}],\"scatterpolargl\":[{\"type\":\"scatterpolargl\",\"marker\":{\"colorbar\":{\"outlinewidth\":0,\"ticks\":\"\"}}}],\"bar\":[{\"error_x\":{\"color\":\"#f2f5fa\"},\"error_y\":{\"color\":\"#f2f5fa\"},\"marker\":{\"line\":{\"color\":\"rgb(17,17,17)\",\"width\":0.5},\"pattern\":{\"fillmode\":\"overlay\",\"size\":10,\"solidity\":0.2}},\"type\":\"bar\"}],\"scattergeo\":[{\"type\":\"scattergeo\",\"marker\":{\"colorbar\":{\"outlinewidth\":0,\"ticks\":\"\"}}}],\"scatterpolar\":[{\"type\":\"scatterpolar\",\"marker\":{\"colorbar\":{\"outlinewidth\":0,\"ticks\":\"\"}}}],\"histogram\":[{\"marker\":{\"pattern\":{\"fillmode\":\"overlay\",\"size\":10,\"solidity\":0.2}},\"type\":\"histogram\"}],\"scattergl\":[{\"marker\":{\"line\":{\"color\":\"#283442\"}},\"type\":\"scattergl\"}],\"scatter3d\":[{\"type\":\"scatter3d\",\"line\":{\"colorbar\":{\"outlinewidth\":0,\"ticks\":\"\"}},\"marker\":{\"colorbar\":{\"outlinewidth\":0,\"ticks\":\"\"}}}],\"scattermapbox\":[{\"type\":\"scattermapbox\",\"marker\":{\"colorbar\":{\"outlinewidth\":0,\"ticks\":\"\"}}}],\"scatterternary\":[{\"type\":\"scatterternary\",\"marker\":{\"colorbar\":{\"outlinewidth\":0,\"ticks\":\"\"}}}],\"scattercarpet\":[{\"type\":\"scattercarpet\",\"marker\":{\"colorbar\":{\"outlinewidth\":0,\"ticks\":\"\"}}}],\"carpet\":[{\"aaxis\":{\"endlinecolor\":\"#A2B1C6\",\"gridcolor\":\"#506784\",\"linecolor\":\"#506784\",\"minorgridcolor\":\"#506784\",\"startlinecolor\":\"#A2B1C6\"},\"baxis\":{\"endlinecolor\":\"#A2B1C6\",\"gridcolor\":\"#506784\",\"linecolor\":\"#506784\",\"minorgridcolor\":\"#506784\",\"startlinecolor\":\"#A2B1C6\"},\"type\":\"carpet\"}],\"table\":[{\"cells\":{\"fill\":{\"color\":\"#506784\"},\"line\":{\"color\":\"rgb(17,17,17)\"}},\"header\":{\"fill\":{\"color\":\"#2a3f5f\"},\"line\":{\"color\":\"rgb(17,17,17)\"}},\"type\":\"table\"}],\"barpolar\":[{\"marker\":{\"line\":{\"color\":\"rgb(17,17,17)\",\"width\":0.5},\"pattern\":{\"fillmode\":\"overlay\",\"size\":10,\"solidity\":0.2}},\"type\":\"barpolar\"}],\"pie\":[{\"automargin\":true,\"type\":\"pie\"}]},\"layout\":{\"autotypenumbers\":\"strict\",\"colorway\":[\"#636efa\",\"#EF553B\",\"#00cc96\",\"#ab63fa\",\"#FFA15A\",\"#19d3f3\",\"#FF6692\",\"#B6E880\",\"#FF97FF\",\"#FECB52\"],\"font\":{\"color\":\"#f2f5fa\"},\"hovermode\":\"closest\",\"hoverlabel\":{\"align\":\"left\"},\"paper_bgcolor\":\"rgb(17,17,17)\",\"plot_bgcolor\":\"rgb(17,17,17)\",\"polar\":{\"bgcolor\":\"rgb(17,17,17)\",\"angularaxis\":{\"gridcolor\":\"#506784\",\"linecolor\":\"#506784\",\"ticks\":\"\"},\"radialaxis\":{\"gridcolor\":\"#506784\",\"linecolor\":\"#506784\",\"ticks\":\"\"}},\"ternary\":{\"bgcolor\":\"rgb(17,17,17)\",\"aaxis\":{\"gridcolor\":\"#506784\",\"linecolor\":\"#506784\",\"ticks\":\"\"},\"baxis\":{\"gridcolor\":\"#506784\",\"linecolor\":\"#506784\",\"ticks\":\"\"},\"caxis\":{\"gridcolor\":\"#506784\",\"linecolor\":\"#506784\",\"ticks\":\"\"}},\"coloraxis\":{\"colorbar\":{\"outlinewidth\":0,\"ticks\":\"\"}},\"colorscale\":{\"sequential\":[[0.0,\"#0d0887\"],[0.1111111111111111,\"#46039f\"],[0.2222222222222222,\"#7201a8\"],[0.3333333333333333,\"#9c179e\"],[0.4444444444444444,\"#bd3786\"],[0.5555555555555556,\"#d8576b\"],[0.6666666666666666,\"#ed7953\"],[0.7777777777777778,\"#fb9f3a\"],[0.8888888888888888,\"#fdca26\"],[1.0,\"#f0f921\"]],\"sequentialminus\":[[0.0,\"#0d0887\"],[0.1111111111111111,\"#46039f\"],[0.2222222222222222,\"#7201a8\"],[0.3333333333333333,\"#9c179e\"],[0.4444444444444444,\"#bd3786\"],[0.5555555555555556,\"#d8576b\"],[0.6666666666666666,\"#ed7953\"],[0.7777777777777778,\"#fb9f3a\"],[0.8888888888888888,\"#fdca26\"],[1.0,\"#f0f921\"]],\"diverging\":[[0,\"#8e0152\"],[0.1,\"#c51b7d\"],[0.2,\"#de77ae\"],[0.3,\"#f1b6da\"],[0.4,\"#fde0ef\"],[0.5,\"#f7f7f7\"],[0.6,\"#e6f5d0\"],[0.7,\"#b8e186\"],[0.8,\"#7fbc41\"],[0.9,\"#4d9221\"],[1,\"#276419\"]]},\"xaxis\":{\"gridcolor\":\"#283442\",\"linecolor\":\"#506784\",\"ticks\":\"\",\"title\":{\"standoff\":15},\"zerolinecolor\":\"#283442\",\"automargin\":true,\"zerolinewidth\":2},\"yaxis\":{\"gridcolor\":\"#283442\",\"linecolor\":\"#506784\",\"ticks\":\"\",\"title\":{\"standoff\":15},\"zerolinecolor\":\"#283442\",\"automargin\":true,\"zerolinewidth\":2},\"scene\":{\"xaxis\":{\"backgroundcolor\":\"rgb(17,17,17)\",\"gridcolor\":\"#506784\",\"linecolor\":\"#506784\",\"showbackground\":true,\"ticks\":\"\",\"zerolinecolor\":\"#C8D4E3\",\"gridwidth\":2},\"yaxis\":{\"backgroundcolor\":\"rgb(17,17,17)\",\"gridcolor\":\"#506784\",\"linecolor\":\"#506784\",\"showbackground\":true,\"ticks\":\"\",\"zerolinecolor\":\"#C8D4E3\",\"gridwidth\":2},\"zaxis\":{\"backgroundcolor\":\"rgb(17,17,17)\",\"gridcolor\":\"#506784\",\"linecolor\":\"#506784\",\"showbackground\":true,\"ticks\":\"\",\"zerolinecolor\":\"#C8D4E3\",\"gridwidth\":2}},\"shapedefaults\":{\"line\":{\"color\":\"#f2f5fa\"}},\"annotationdefaults\":{\"arrowcolor\":\"#f2f5fa\",\"arrowhead\":0,\"arrowwidth\":1},\"geo\":{\"bgcolor\":\"rgb(17,17,17)\",\"landcolor\":\"rgb(17,17,17)\",\"subunitcolor\":\"#506784\",\"showland\":true,\"showlakes\":true,\"lakecolor\":\"rgb(17,17,17)\"},\"title\":{\"x\":0.05},\"updatemenudefaults\":{\"bgcolor\":\"#506784\",\"borderwidth\":0},\"sliderdefaults\":{\"bgcolor\":\"#C8D4E3\",\"borderwidth\":1,\"bordercolor\":\"rgb(17,17,17)\",\"tickwidth\":0},\"mapbox\":{\"style\":\"dark\"}}},\"legend\":{\"tracegroupgap\":0},\"title\":{\"text\":\"Fraud vs Valid transactions\"},\"piecolorway\":[\"orange\",\"blue\"],\"height\":400,\"width\":600},                        {\"responsive\": true}                    ).then(function(){\n                            \nvar gd = document.getElementById('87752ab8-a058-4564-81ec-d4cf91591609');\nvar x = new MutationObserver(function (mutations, observer) {{\n        var display = window.getComputedStyle(gd).display;\n        if (!display || display === 'none') {{\n            console.log([gd, 'removed!']);\n            Plotly.purge(gd);\n            observer.disconnect();\n        }}\n}});\n\n// Listen for the removal of the full notebook cells\nvar notebookContainer = gd.closest('#notebook-container');\nif (notebookContainer) {{\n    x.observe(notebookContainer, {childList: true});\n}}\n\n// Listen for the clearing of the current output cell\nvar outputEl = gd.closest('.output');\nif (outputEl) {{\n    x.observe(outputEl, {childList: true});\n}}\n\n                        })                };                });            </script>        </div>"
     },
     "metadata": {},
     "output_type": "display_data"
    }
   ],
   "source": [
    "# create labels\n",
    "labels=[\"Valid\",\"Fraud\"]\n",
    "\n",
    "# get count list\n",
    "li = data[\"Class\"].value_counts().tolist()\n",
    "values = [li[0], li[1]]\n",
    "\n",
    "# plot data\n",
    "fig = px.pie(values=data['Class'].value_counts(),names=labels ,width=600,\n",
    "             height=400,color_discrete_sequence=[\"orange\",\"blue\"],\n",
    "             title=\"Fraud vs Valid transactions\")\n",
    "fig.show()"
   ],
   "metadata": {
    "collapsed": false,
    "ExecuteTime": {
     "end_time": "2023-08-08T18:17:18.823275500Z",
     "start_time": "2023-08-08T18:17:18.779651300Z"
    }
   }
  },
  {
   "cell_type": "code",
   "execution_count": 835,
   "outputs": [
    {
     "name": "stdout",
     "output_type": "stream",
     "text": [
      "Fraud Cases: 492\n",
      "Valid Transactions: 284315\n"
     ]
    }
   ],
   "source": [
    "# data has a class imbalance since there are\n",
    "# many more valid than fraudulent transactions\n",
    "fraud = data[data['Class'] == 1]\n",
    "valid = data[data['Class'] == 0]\n",
    "\n",
    "print(f\"Fraud Cases: {len(data[data['Class'] == 1])}\")\n",
    "print(f\"Valid Transactions: {len(data[data['Class'] == 0])}\")"
   ],
   "metadata": {
    "collapsed": false,
    "ExecuteTime": {
     "end_time": "2023-08-08T18:17:18.888775600Z",
     "start_time": "2023-08-08T18:17:18.824276700Z"
    }
   }
  },
  {
   "cell_type": "code",
   "execution_count": 836,
   "outputs": [
    {
     "data": {
      "text/plain": "count     492.000000\nmean      122.211321\nstd       256.683288\nmin         0.000000\n25%         1.000000\n50%         9.250000\n75%       105.890000\nmax      2125.870000\nName: Amount, dtype: float64"
     },
     "execution_count": 836,
     "metadata": {},
     "output_type": "execute_result"
    }
   ],
   "source": [
    "#the amount details for fraudulent transaction\n",
    "fraud.Amount.describe()"
   ],
   "metadata": {
    "collapsed": false,
    "ExecuteTime": {
     "end_time": "2023-08-08T18:17:18.900276500Z",
     "start_time": "2023-08-08T18:17:18.886276Z"
    }
   }
  },
  {
   "cell_type": "code",
   "execution_count": 837,
   "outputs": [
    {
     "data": {
      "text/plain": "count    284315.000000\nmean         88.291022\nstd         250.105092\nmin           0.000000\n25%           5.650000\n50%          22.000000\n75%          77.050000\nmax       25691.160000\nName: Amount, dtype: float64"
     },
     "execution_count": 837,
     "metadata": {},
     "output_type": "execute_result"
    }
   ],
   "source": [
    "#the amount details for normal transaction\n",
    "valid.Amount.describe()"
   ],
   "metadata": {
    "collapsed": false,
    "ExecuteTime": {
     "end_time": "2023-08-08T18:17:18.945276100Z",
     "start_time": "2023-08-08T18:17:18.901276400Z"
    }
   }
  },
  {
   "cell_type": "code",
   "execution_count": 838,
   "outputs": [
    {
     "data": {
      "text/plain": "<Figure size 864x648 with 2 Axes>",
      "image/png": "[encoded data removed]"
     },
     "metadata": {},
     "output_type": "display_data"
    }
   ],
   "source": [
    "#plotting the correlation matrix\n",
    "corr = data.corr()\n",
    "# could use abs value for correlation as we can treat negatively and positively correlated as both being important\n",
    "#corr = data.corr().abs()\n",
    "fig = plt.figure(figsize = (12, 9))\n",
    "sns.color_palette(\"mako\", as_cmap=True)\n",
    "sns.heatmap(corr, cmap=\"mako\", square = True)\n",
    "plt.show()"
   ],
   "metadata": {
    "collapsed": false,
    "ExecuteTime": {
     "end_time": "2023-08-08T18:17:19.814776Z",
     "start_time": "2023-08-08T18:17:18.917275800Z"
    }
   }
  },
  {
   "cell_type": "code",
   "execution_count": 839,
   "outputs": [
    {
     "name": "stdout",
     "output_type": "stream",
     "text": [
      "V4     0.133447\n",
      "V11    0.154876\n",
      "dtype: float64\n",
      "[0.9999999999999998, 0.15487564474394697, 0.13344748623900424, -0.10134729859508473, -0.11148525388904085, -0.18725659151429688, -0.19296082706741338, -0.19653894030401806, -0.21688294364102748, -0.2605929248772168, -0.3025436958044035, -0.32648106724371373] [0.9999999999999998, 0.15487564474394697, 0.13344748623900424, -0.10134729859508473, -0.11148525388904085, -0.18725659151429688, -0.19296082706741338, -0.19653894030401806, -0.21688294364102748, -0.2605929248772168, -0.3025436958044035, -0.32648106724371373]\n"
     ]
    }
   ],
   "source": [
    "colors = ['#C4C7DF','#4C4C4C', \"blue\"]\n",
    "mat = corr.unstack()\n",
    "mat = mat[mat.between(0.1, 1, inclusive='neither')]\n",
    "\n",
    "print(mat['Class'])\n",
    "corr = data.corrwith(data['Class']).sort_values(ascending = False)\n",
    "\n",
    "corr.columns = ['Correlation']\n",
    "res = []\n",
    "for i in range(len(corr)):\n",
    "    if corr.iloc[i] > 0.1 or corr.iloc[i] < -0.1:\n",
    "        res.append(corr.iloc[i])\n",
    "\n",
    "\n",
    "\n",
    "corr = [x for x in corr if x > 0.1 or x < -0.1]\n",
    "print(corr, res)\n"
   ],
   "metadata": {
    "collapsed": false,
    "ExecuteTime": {
     "end_time": "2023-08-08T18:17:19.954167100Z",
     "start_time": "2023-08-08T18:17:19.819275400Z"
    }
   }
  },
  {
   "cell_type": "code",
   "execution_count": 840,
   "outputs": [
    {
     "name": "stdout",
     "output_type": "stream",
     "text": [
      "(284807, 30)\n",
      "(284807,)\n"
     ]
    }
   ],
   "source": [
    "#separating the X and the Y values\n",
    "x = data.drop(['Class'], axis = 1)\n",
    "\n",
    "# only use the features with an abs value correlation above a certain threshold, we have to decide what matters and doesn't even a weak correlation could be useful\n",
    "#X = data[['V3','V4','V7','V10','V11','V12','V14','V16','V17']].copy(deep = True)\n",
    "y = data[\"Class\"]\n",
    "print(x.shape)\n",
    "print(y.shape)\n",
    "# getting just the values for the sake of processing\n",
    "# (its a numpy array with no columns)\n",
    "x_data = x.values\n",
    "y_data = y.values"
   ],
   "metadata": {
    "collapsed": false,
    "ExecuteTime": {
     "end_time": "2023-08-08T18:17:20.006168200Z",
     "start_time": "2023-08-08T18:17:19.955168400Z"
    }
   }
  },
  {
   "cell_type": "code",
   "execution_count": 841,
   "outputs": [],
   "source": [
    "#training and testing data bifurcation\n",
    "\n",
    "\n",
    "#split the data into training and testing sets\n",
    "# for later, don't run SMOTE on test data, only training.\n",
    "x_train, x_test, y_train, y_test = train_test_split(x_data, y_data, test_size = 0.2, random_state = 42)"
   ],
   "metadata": {
    "collapsed": false,
    "ExecuteTime": {
     "end_time": "2023-08-08T18:17:20.109168400Z",
     "start_time": "2023-08-08T18:17:19.986168900Z"
    }
   }
  },
  {
   "cell_type": "code",
   "execution_count": 842,
   "outputs": [],
   "source": [
    "# store overall results here\n",
    "final_results = {}"
   ],
   "metadata": {
    "collapsed": false,
    "ExecuteTime": {
     "end_time": "2023-08-08T18:17:20.126420300Z",
     "start_time": "2023-08-08T18:17:20.110668300Z"
    }
   }
  },
  {
   "cell_type": "code",
   "execution_count": 843,
   "outputs": [],
   "source": [
    "# baseline models\n",
    "# FYI, this cell might take a bit to finish loading,\n",
    "# import classifier\n",
    "\n",
    "\n",
    "# create the classifier object, the more estimators\n",
    "# the longer it will take to run, diminishing returns at a point\n",
    "# later we will more finely tune the model's parameters along with\n",
    "rfc = RandomForestClassifier(n_estimators=10, max_depth=13, min_samples_split=9, random_state=42)\n",
    "\n",
    "# train the data\n",
    "rfc.fit(x_train, y_train)\n",
    "\n",
    "# get predictions\n",
    "y_pred = rfc.predict(x_test)\n",
    "\n",
    "\n",
    "\n"
   ],
   "metadata": {
    "collapsed": false,
    "ExecuteTime": {
     "end_time": "2023-08-08T18:17:47.899560700Z",
     "start_time": "2023-08-08T18:17:20.126920700Z"
    }
   }
  },
  {
   "cell_type": "code",
   "execution_count": 844,
   "outputs": [],
   "source": [
    "# base line xgb\n",
    "# train xgb model\n",
    "xgb = XGBClassifier(n_estimators=10, max_delta_step=1, eval_metric='aucpr', random_state=42)\n",
    "\n",
    "# train the data\n",
    "xgb.fit(x_train, y_train)\n",
    "\n",
    "# get predictions\n",
    "y_pred_xgb = xgb.predict(x_test)"
   ],
   "metadata": {
    "collapsed": false,
    "ExecuteTime": {
     "end_time": "2023-08-08T18:17:49.729029600Z",
     "start_time": "2023-08-08T18:17:47.901534500Z"
    }
   }
  },
  {
   "cell_type": "code",
   "execution_count": 845,
   "outputs": [],
   "source": [
    "# base line results\n",
    "results = {\n",
    "    \"Accuracy\": accuracy_score(y_test, y_pred),\n",
    "    \"Precision\": precision_score(y_test, y_pred),\n",
    "    \"Recall\": recall_score(y_test, y_pred),\n",
    "    \"F1 Score\": f1_score(y_test, y_pred),\n",
    "    \"AUPRC\": average_precision_score(y_test, y_pred),\n",
    "}\n",
    "\n",
    "final_results[\"RFC_BASELINE\"] = results.copy()\n",
    "\n",
    "\n",
    "# solve for accuracy, precision, recall, f1 score and auprc\n",
    "results_xgb = {\n",
    "    \"Accuracy\": accuracy_score(y_test, y_pred_xgb),\n",
    "    \"Precision\": precision_score(y_test, y_pred_xgb),\n",
    "    \"Recall\": recall_score(y_test, y_pred_xgb),\n",
    "    \"F1 Score\": f1_score(y_test, y_pred_xgb),\n",
    "    \"AUPRC\": average_precision_score(y_test, y_pred_xgb),\n",
    "}\n",
    "\n",
    "final_results[\"XGB_BASELINE\"] = results_xgb.copy()\n"
   ],
   "metadata": {
    "collapsed": false,
    "ExecuteTime": {
     "end_time": "2023-08-08T18:17:49.821030500Z",
     "start_time": "2023-08-08T18:17:49.732030600Z"
    }
   }
  },
  {
   "cell_type": "code",
   "execution_count": 846,
   "outputs": [
    {
     "name": "stdout",
     "output_type": "stream",
     "text": [
      "________________________________\n",
      "Random Forest Classifier Results\n",
      "________________________________\n",
      "Accuracy: 0.9995435553526912\n",
      "Precision: 0.95\n",
      "Recall: 0.7755102040816326\n",
      "F1 Score: 0.8539325842696629\n",
      "AUPRC: 0.7371209162714276\n"
     ]
    },
    {
     "data": {
      "text/plain": "<Figure size 360x216 with 1 Axes>",
      "image/png": "[encoded data removed]"
     },
     "metadata": {},
     "output_type": "display_data"
    }
   ],
   "source": [
    "# show results\n",
    "print(\"________________________________\")\n",
    "print(\"Random Forest Classifier Results\")\n",
    "print(\"________________________________\")\n",
    "for [k, v] in results.items():\n",
    "    print(f\"{k}: {v}\")\n",
    "\n",
    "vals = results.values()\n",
    "names = results.keys()\n",
    "\n",
    "fig = plt.figure(figsize = (5, 3))\n",
    "plt.bar(names, vals)\n",
    "plt.show()\n"
   ],
   "metadata": {
    "collapsed": false,
    "ExecuteTime": {
     "end_time": "2023-08-08T18:17:49.899531Z",
     "start_time": "2023-08-08T18:17:49.823531Z"
    }
   }
  },
  {
   "cell_type": "code",
   "execution_count": 847,
   "outputs": [
    {
     "data": {
      "text/plain": "<Figure size 432x288 with 1 Axes>",
      "image/png": "[encoded data removed]"
     },
     "metadata": {},
     "output_type": "display_data"
    }
   ],
   "source": [
    "precision, recall, _ = precision_recall_curve(y_test, y_pred)\n",
    "disp = PrecisionRecallDisplay(precision=precision, recall=recall)\n",
    "disp.plot()\n",
    "plt.show()"
   ],
   "metadata": {
    "collapsed": false,
    "ExecuteTime": {
     "end_time": "2023-08-08T18:17:50.007531900Z",
     "start_time": "2023-08-08T18:17:49.901034500Z"
    }
   }
  },
  {
   "cell_type": "code",
   "execution_count": 848,
   "outputs": [
    {
     "name": "stdout",
     "output_type": "stream",
     "text": [
      "________________________________\n",
      "XGB Classifier Results\n",
      "________________________________\n",
      "Accuracy: 0.9996137776061234\n",
      "Precision: 0.9634146341463414\n",
      "Recall: 0.8061224489795918\n",
      "F1 Score: 0.8777777777777778\n",
      "AUPRC: 0.7769637199646289\n"
     ]
    },
    {
     "data": {
      "text/plain": "<Figure size 360x216 with 1 Axes>",
      "image/png": "[encoded data removed]"
     },
     "metadata": {},
     "output_type": "display_data"
    }
   ],
   "source": [
    "print(\"________________________________\")\n",
    "print(\"XGB Classifier Results\")\n",
    "print(\"________________________________\")\n",
    "for [k, v] in results_xgb.items():\n",
    "    print(f\"{k}: {v}\")\n",
    "\n",
    "vals = results_xgb.values()\n",
    "names = results_xgb.keys()\n",
    "\n",
    "fig = plt.figure(figsize = (5, 3))\n",
    "plt.bar(names, vals)\n",
    "plt.show()"
   ],
   "metadata": {
    "collapsed": false,
    "ExecuteTime": {
     "end_time": "2023-08-08T18:17:50.100249400Z",
     "start_time": "2023-08-08T18:17:50.009531Z"
    }
   }
  },
  {
   "cell_type": "code",
   "execution_count": 849,
   "outputs": [
    {
     "data": {
      "text/plain": "<Figure size 432x288 with 1 Axes>",
      "image/png": "[encoded data removed]"
     },
     "metadata": {},
     "output_type": "display_data"
    }
   ],
   "source": [
    "precision, recall, _ = precision_recall_curve(y_test, y_pred_xgb)\n",
    "disp = PrecisionRecallDisplay(precision=precision, recall=recall)\n",
    "disp.plot()\n",
    "plt.show()"
   ],
   "metadata": {
    "collapsed": false,
    "ExecuteTime": {
     "end_time": "2023-08-08T18:17:50.208343900Z",
     "start_time": "2023-08-08T18:17:50.101750200Z"
    }
   }
  },
  {
   "cell_type": "code",
   "execution_count": 850,
   "outputs": [
    {
     "name": "stdout",
     "output_type": "stream",
     "text": [
      "--RFC + SMOTE--\n",
      "Fold: 1 | Valid: 284315 | Fraud: 284315\n",
      "              precision    recall  f1-score   support\n",
      "\n",
      "           0       1.00      1.00      1.00     56863\n",
      "           1       0.89      0.77      0.83        99\n",
      "\n",
      "    accuracy                           1.00     56962\n",
      "   macro avg       0.95      0.88      0.91     56962\n",
      "weighted avg       1.00      1.00      1.00     56962\n",
      "\n",
      "________________________________\n",
      "Accuracy: 0.9994382219725431\n",
      "Precision: 0.8941176470588236\n",
      "Recall: 0.7676767676767676\n",
      "F1 Score: 0.826086956521739\n",
      "AUPRC: 0.6867971231741092\n",
      "________________________________\n",
      "Fold: 2 | Valid: 284315 | Fraud: 284315\n",
      "              precision    recall  f1-score   support\n",
      "\n",
      "           0       1.00      1.00      1.00     56863\n",
      "           1       0.96      0.75      0.84        99\n",
      "\n",
      "    accuracy                           1.00     56962\n",
      "   macro avg       0.98      0.87      0.92     56962\n",
      "weighted avg       1.00      1.00      1.00     56962\n",
      "\n",
      "________________________________\n",
      "Accuracy: 0.9995084442259752\n",
      "Precision: 0.961038961038961\n",
      "Recall: 0.7474747474747475\n",
      "F1 Score: 0.8409090909090909\n",
      "AUPRC: 0.7187912437999419\n",
      "________________________________\n",
      "Fold: 3 | Valid: 284315 | Fraud: 284315\n",
      "              precision    recall  f1-score   support\n",
      "\n",
      "           0       1.00      1.00      1.00     56863\n",
      "           1       0.96      0.78      0.86        98\n",
      "\n",
      "    accuracy                           1.00     56961\n",
      "   macro avg       0.98      0.89      0.93     56961\n",
      "weighted avg       1.00      1.00      1.00     56961\n",
      "\n",
      "________________________________\n",
      "Accuracy: 0.9995611032109689\n",
      "Precision: 0.9620253164556962\n",
      "Recall: 0.7755102040816326\n",
      "F1 Score: 0.8587570621468926\n",
      "AUPRC: 0.7464466786706015\n",
      "________________________________\n",
      "Fold: 4 | Valid: 284315 | Fraud: 284315\n",
      "              precision    recall  f1-score   support\n",
      "\n",
      "           0       1.00      1.00      1.00     56863\n",
      "           1       0.95      0.77      0.85        98\n",
      "\n",
      "    accuracy                           1.00     56961\n",
      "   macro avg       0.97      0.88      0.92     56961\n",
      "weighted avg       1.00      1.00      1.00     56961\n",
      "\n",
      "________________________________\n",
      "Accuracy: 0.9995259914678464\n",
      "Precision: 0.9493670886075949\n",
      "Recall: 0.7653061224489796\n",
      "F1 Score: 0.8474576271186441\n",
      "AUPRC: 0.7269602304088639\n",
      "________________________________\n",
      "Fold: 5 | Valid: 284315 | Fraud: 284315\n",
      "              precision    recall  f1-score   support\n",
      "\n",
      "           0       1.00      1.00      1.00     56863\n",
      "           1       0.94      0.78      0.85        98\n",
      "\n",
      "    accuracy                           1.00     56961\n",
      "   macro avg       0.97      0.89      0.92     56961\n",
      "weighted avg       1.00      1.00      1.00     56961\n",
      "\n",
      "________________________________\n",
      "Accuracy: 0.9995259914678464\n",
      "Precision: 0.9382716049382716\n",
      "Recall: 0.7755102040816326\n",
      "F1 Score: 0.8491620111731844\n",
      "AUPRC: 0.7280254330040273\n",
      "________________________________\n",
      "\n",
      "--Final Results--\n",
      "Avg Accuracy: 0.999511950469036\n",
      "Avg Precision: 0.9409641236198694\n",
      "Avg Recall: 0.766295609152752\n",
      "Avg F1 Score: 0.8444745495739102\n",
      "Avg AUPRC: 0.7214041418115088\n"
     ]
    }
   ],
   "source": [
    "# smote only random forest classifier\n",
    "print(\"--RFC + SMOTE--\")\n",
    "# separate data\n",
    "x = data.drop('Class', axis=1)\n",
    "y = data['Class']\n",
    "\n",
    "# using stratified kfold for imbalanced dataset to validate\n",
    "sfk = StratifiedKFold(n_splits=5, shuffle=True, random_state=42)\n",
    "\n",
    "fold = 1\n",
    "\n",
    "# used to track results after all k folds validations\n",
    "res_acc = []\n",
    "res_prec = []\n",
    "res_rec = []\n",
    "res_f1 = []\n",
    "res_auprc = []\n",
    "\n",
    "\n",
    "# loop over every fold\n",
    "for train_idx, test_idx in sfk.split(x, y):\n",
    "\n",
    "    x = data.drop('Class', axis=1)\n",
    "    y = data['Class']\n",
    "\n",
    "    # use smote to oversample data\n",
    "    smt = SMOTE(random_state=13)\n",
    "    x, y = smt.fit_resample(x, y)\n",
    "    \n",
    "    print(f\"Fold: {fold} | Valid: {np.bincount(y)[0]} | Fraud: {np.bincount(y)[1]}\")\n",
    "    \n",
    "    # get the training data\n",
    "    x_train, x_test = x.loc[train_idx], x.loc[test_idx]\n",
    "    y_train, y_test = y[train_idx], y[test_idx] \n",
    "    \n",
    "    # create the forest classifier model\n",
    "    rfc = RandomForestClassifier(n_estimators=10, max_depth=10, min_samples_split=6, random_state=13)\n",
    "    \n",
    "    # train the model on the data\n",
    "    rfc.fit(x_train, y_train)\n",
    "    \n",
    "    # get predictions\n",
    "    y_pred = rfc.predict(x_test)\n",
    "    \n",
    "    print(classification_report(y_test, y_pred))\n",
    "    \n",
    "    # solve for accuracy, precision, recall, f1 score and auprc and store for avg\n",
    "    res_acc += [accuracy_score(y_test, y_pred)]\n",
    "    res_prec += [precision_score(y_test, y_pred)]\n",
    "    res_rec += [recall_score(y_test, y_pred)]\n",
    "    res_f1 += [f1_score(y_test, y_pred)]\n",
    "    res_auprc += [average_precision_score(y_test, y_pred)]\n",
    "    \n",
    "    # print current results\n",
    "    results = {\n",
    "        \"Accuracy\": res_acc[-1],\n",
    "        \"Precision\": res_prec[-1],\n",
    "        \"Recall\": res_rec[-1],\n",
    "        \"F1 Score\": res_f1[-1],\n",
    "        \"AUPRC\": res_auprc[-1],\n",
    "    }\n",
    "    \n",
    "    print(\"________________________________\")\n",
    "    for [k, v] in results.items():\n",
    "        print(f\"{k}: {v}\")\n",
    "    print(\"________________________________\")\n",
    "    #precision, recall, _ = precision_recall_curve(y_test, y_pred)\n",
    "    #disp = PrecisionRecallDisplay(precision=precision, recall=recall)\n",
    "    #disp.plot()\n",
    "    #plt.show()\n",
    "    \n",
    "    \n",
    "    fold += 1\n",
    "\n",
    "# show avg results after k folds validation\n",
    "print(\"\\n--Final Results--\")\n",
    "print(f\"Avg Accuracy: {np.mean(res_acc)}\")\n",
    "print(f\"Avg Precision: {np.mean(res_prec)}\")\n",
    "print(f\"Avg Recall: {np.mean(res_rec)}\")\n",
    "print(f\"Avg F1 Score: {np.mean(res_f1)}\")\n",
    "print(f\"Avg AUPRC: {np.mean(res_auprc)}\")   \n",
    "\n",
    "final_results[\"RFC_SMOTE\"] = {\n",
    "    \"Accuracy\": np.mean(res_acc),\n",
    "    \"Precision\": np.mean(res_prec),\n",
    "    \"Recall\": np.mean(res_rec),\n",
    "    \"F1 Score\": np.mean(res_f1),\n",
    "    \"AUPRC\": np.mean(res_auprc),\n",
    "}\n"
   ],
   "metadata": {
    "collapsed": false,
    "ExecuteTime": {
     "end_time": "2023-08-08T18:19:45.232884700Z",
     "start_time": "2023-08-08T18:17:50.214312200Z"
    }
   }
  },
  {
   "cell_type": "code",
   "execution_count": 851,
   "outputs": [
    {
     "name": "stdout",
     "output_type": "stream",
     "text": [
      "--RFC + NearMiss--\n",
      "Fold: 1 | Valid: 984 | Fraud: 492\n",
      "              precision    recall  f1-score   support\n",
      "\n",
      "           0       0.95      0.99      0.97       197\n",
      "           1       0.98      0.90      0.94        99\n",
      "\n",
      "    accuracy                           0.96       296\n",
      "   macro avg       0.96      0.94      0.95       296\n",
      "weighted avg       0.96      0.96      0.96       296\n",
      "\n",
      "________________________________\n",
      "Accuracy: 0.9594594594594594\n",
      "Precision: 0.978021978021978\n",
      "Recall: 0.898989898989899\n",
      "F1 Score: 0.9368421052631579\n",
      "AUPRC: 0.913015663015663\n",
      "________________________________\n",
      "Fold: 2 | Valid: 984 | Fraud: 492\n",
      "              precision    recall  f1-score   support\n",
      "\n",
      "           0       0.95      0.99      0.97       197\n",
      "           1       0.99      0.90      0.94        98\n",
      "\n",
      "    accuracy                           0.96       295\n",
      "   macro avg       0.97      0.95      0.96       295\n",
      "weighted avg       0.96      0.96      0.96       295\n",
      "\n",
      "________________________________\n",
      "Accuracy: 0.9627118644067797\n",
      "Precision: 0.9887640449438202\n",
      "Recall: 0.8979591836734694\n",
      "F1 Score: 0.9411764705882354\n",
      "AUPRC: 0.9217680597281762\n",
      "________________________________\n",
      "Fold: 3 | Valid: 984 | Fraud: 492\n",
      "              precision    recall  f1-score   support\n",
      "\n",
      "           0       0.97      0.99      0.98       197\n",
      "           1       0.98      0.95      0.96        98\n",
      "\n",
      "    accuracy                           0.98       295\n",
      "   macro avg       0.98      0.97      0.97       295\n",
      "weighted avg       0.98      0.98      0.98       295\n",
      "\n",
      "________________________________\n",
      "Accuracy: 0.976271186440678\n",
      "Precision: 0.9789473684210527\n",
      "Recall: 0.9489795918367347\n",
      "F1 Score: 0.9637305699481866\n",
      "AUPRC: 0.945950226656229\n",
      "________________________________\n",
      "Fold: 4 | Valid: 984 | Fraud: 492\n",
      "              precision    recall  f1-score   support\n",
      "\n",
      "           0       0.95      1.00      0.98       197\n",
      "           1       1.00      0.90      0.95        98\n",
      "\n",
      "    accuracy                           0.97       295\n",
      "   macro avg       0.98      0.95      0.96       295\n",
      "weighted avg       0.97      0.97      0.97       295\n",
      "\n",
      "________________________________\n",
      "Accuracy: 0.9661016949152542\n",
      "Precision: 1.0\n",
      "Recall: 0.8979591836734694\n",
      "F1 Score: 0.9462365591397849\n",
      "AUPRC: 0.9318574887582152\n",
      "________________________________\n",
      "Fold: 5 | Valid: 984 | Fraud: 492\n",
      "              precision    recall  f1-score   support\n",
      "\n",
      "           0       0.97      0.99      0.98       196\n",
      "           1       0.99      0.93      0.96        99\n",
      "\n",
      "    accuracy                           0.97       295\n",
      "   macro avg       0.98      0.96      0.97       295\n",
      "weighted avg       0.97      0.97      0.97       295\n",
      "\n",
      "________________________________\n",
      "Accuracy: 0.9728813559322034\n",
      "Precision: 0.989247311827957\n",
      "Recall: 0.9292929292929293\n",
      "F1 Score: 0.9583333333333333\n",
      "AUPRC: 0.94302934576308\n",
      "________________________________\n",
      "\n",
      "--Final Results--\n",
      "Avg Accuracy: 0.967485112230875\n",
      "Avg Precision: 0.9869961406429615\n",
      "Avg Recall: 0.9146361574933003\n",
      "Avg F1 Score: 0.9492638076545395\n",
      "Avg AUPRC: 0.9311241567842726\n"
     ]
    }
   ],
   "source": [
    "print(\"--RFC + NearMiss--\")\n",
    "\n",
    "# separate data\n",
    "x = data.drop('Class', axis=1)\n",
    "y = data['Class']\n",
    "\n",
    "# under sample with near miss  \n",
    "nm = NearMiss(sampling_strategy=0.5)\n",
    "x, y = nm.fit_resample(x, y)\n",
    "\n",
    "# using stratified kfold for imbalanced dataset to validate\n",
    "sfk = StratifiedKFold(n_splits=5, shuffle=True, random_state=42)\n",
    "\n",
    "fold = 1\n",
    "\n",
    "# used to track results after all k folds validations\n",
    "res_acc = []\n",
    "res_prec = []\n",
    "res_rec = []\n",
    "res_f1 = []\n",
    "res_auprc = []\n",
    "\n",
    "\n",
    "# loop over every fold\n",
    "for train_idx, test_idx in sfk.split(x, y):\n",
    "    x = data.drop('Class', axis=1)\n",
    "    y = data['Class']\n",
    "\n",
    "    # under sample with near miss  \n",
    "    nm = NearMiss(sampling_strategy=0.5)\n",
    "    x, y = nm.fit_resample(x, y)\n",
    "    \n",
    "    print(f\"Fold: {fold} | Valid: {np.bincount(y)[0]} | Fraud: {np.bincount(y)[1]}\")\n",
    "    \n",
    "    # get the training data\n",
    "    x_train, x_test = x.loc[train_idx], x.loc[test_idx]\n",
    "    y_train, y_test = y[train_idx], y[test_idx] \n",
    "\n",
    "    # create the forest classifier model\n",
    "    rfc = RandomForestClassifier(n_estimators=10, max_depth=10, min_samples_split=9, random_state=13)\n",
    "    \n",
    "    # train the model on the data\n",
    "    rfc.fit(x_train, y_train)\n",
    "    \n",
    "    # get predictions\n",
    "    y_pred = rfc.predict(x_test)\n",
    "    print(classification_report(y_test, y_pred))\n",
    "\n",
    "    # solve for accuracy, precision, recall, f1 score and auprc and store for avg\n",
    "    res_acc += [accuracy_score(y_test, y_pred)]\n",
    "    res_prec += [precision_score(y_test, y_pred)]\n",
    "    res_rec += [recall_score(y_test, y_pred)]\n",
    "    res_f1 += [f1_score(y_test, y_pred)]\n",
    "    res_auprc += [average_precision_score(y_test, y_pred)]\n",
    "    \n",
    "    # print current results\n",
    "    results = {\n",
    "        \"Accuracy\": res_acc[-1],\n",
    "        \"Precision\": res_prec[-1],\n",
    "        \"Recall\": res_rec[-1],\n",
    "        \"F1 Score\": res_f1[-1],\n",
    "        \"AUPRC\": res_auprc[-1],\n",
    "    }\n",
    "    \n",
    "    print(\"________________________________\")\n",
    "    for [k, v] in results.items():\n",
    "        print(f\"{k}: {v}\")\n",
    "    print(\"________________________________\")\n",
    "    fold += 1\n",
    "\n",
    "# show avg results after k folds validation\n",
    "print(\"\\n--Final Results--\")\n",
    "print(f\"Avg Accuracy: {np.mean(res_acc)}\")\n",
    "print(f\"Avg Precision: {np.mean(res_prec)}\")\n",
    "print(f\"Avg Recall: {np.mean(res_rec)}\")\n",
    "print(f\"Avg F1 Score: {np.mean(res_f1)}\")\n",
    "print(f\"Avg AUPRC: {np.mean(res_auprc)}\")\n",
    "\n",
    "\n",
    "final_results[\"RFC_NearMiss\"] = {\n",
    "    \"Accuracy\": np.mean(res_acc),\n",
    "    \"Precision\": np.mean(res_prec),\n",
    "    \"Recall\": np.mean(res_rec),\n",
    "    \"F1 Score\": np.mean(res_f1),\n",
    "    \"AUPRC\": np.mean(res_auprc),\n",
    "}\n"
   ],
   "metadata": {
    "collapsed": false,
    "ExecuteTime": {
     "end_time": "2023-08-08T18:19:48.398383600Z",
     "start_time": "2023-08-08T18:19:45.239385Z"
    }
   }
  },
  {
   "cell_type": "code",
   "execution_count": 852,
   "outputs": [
    {
     "name": "stdout",
     "output_type": "stream",
     "text": [
      "--RFC + SMOTE + NearMiss--\n",
      "Fold: 1 | Valid: 227452 | Fraud: 113726\n",
      "              precision    recall  f1-score   support\n",
      "\n",
      "           0       0.99      1.00      0.99     45491\n",
      "           1       1.00      0.97      0.98     22745\n",
      "\n",
      "    accuracy                           0.99     68236\n",
      "   macro avg       0.99      0.99      0.99     68236\n",
      "weighted avg       0.99      0.99      0.99     68236\n",
      "\n",
      "________________________________\n",
      "Accuracy: 0.9899759657658714\n",
      "Precision: 0.9981483990425868\n",
      "Recall: 0.9717300505605627\n",
      "F1 Score: 0.9847620744965248\n",
      "AUPRC: 0.979353972649511\n",
      "________________________________\n",
      "Fold: 2 | Valid: 227452 | Fraud: 113726\n",
      "              precision    recall  f1-score   support\n",
      "\n",
      "           0       0.98      1.00      0.99     45491\n",
      "           1       1.00      0.97      0.98     22745\n",
      "\n",
      "    accuracy                           0.99     68236\n",
      "   macro avg       0.99      0.98      0.99     68236\n",
      "weighted avg       0.99      0.99      0.99     68236\n",
      "\n",
      "________________________________\n",
      "Accuracy: 0.9891992496629345\n",
      "Precision: 0.9985050285403643\n",
      "Recall: 0.9690481424488898\n",
      "F1 Score: 0.9835560811263081\n",
      "AUPRC: 0.9779165777832469\n",
      "________________________________\n",
      "Fold: 3 | Valid: 227452 | Fraud: 113726\n",
      "              precision    recall  f1-score   support\n",
      "\n",
      "           0       0.99      1.00      0.99     45490\n",
      "           1       1.00      0.97      0.99     22746\n",
      "\n",
      "    accuracy                           0.99     68236\n",
      "   macro avg       0.99      0.99      0.99     68236\n",
      "weighted avg       0.99      0.99      0.99     68236\n",
      "\n",
      "________________________________\n",
      "Accuracy: 0.990269066182074\n",
      "Precision: 0.9988704138803542\n",
      "Recall: 0.9719071485096281\n",
      "F1 Score: 0.9852043317438388\n",
      "AUPRC: 0.9801738539827599\n",
      "________________________________\n",
      "Fold: 4 | Valid: 227452 | Fraud: 113726\n",
      "              precision    recall  f1-score   support\n",
      "\n",
      "           0       0.98      1.00      0.99     45490\n",
      "           1       1.00      0.97      0.98     22745\n",
      "\n",
      "    accuracy                           0.99     68235\n",
      "   macro avg       0.99      0.98      0.99     68235\n",
      "weighted avg       0.99      0.99      0.99     68235\n",
      "\n",
      "________________________________\n",
      "Accuracy: 0.989169780904228\n",
      "Precision: 0.9982791413821211\n",
      "Recall: 0.9691800395691361\n",
      "F1 Score: 0.9835143998036897\n",
      "AUPRC: 0.9777855378893887\n",
      "________________________________\n",
      "Fold: 5 | Valid: 227452 | Fraud: 113726\n",
      "              precision    recall  f1-score   support\n",
      "\n",
      "           0       0.98      1.00      0.99     45490\n",
      "           1       1.00      0.97      0.98     22745\n",
      "\n",
      "    accuracy                           0.99     68235\n",
      "   macro avg       0.99      0.98      0.99     68235\n",
      "weighted avg       0.99      0.99      0.99     68235\n",
      "\n",
      "________________________________\n",
      "Accuracy: 0.9886568476588261\n",
      "Precision: 0.9987741203178206\n",
      "Recall: 0.9671576170586942\n",
      "F1 Score: 0.9827116372570918\n",
      "AUPRC: 0.9769194591669123\n",
      "________________________________\n",
      "\n",
      "--Final Results--\n",
      "Avg Accuracy: 0.9894541820347869\n",
      "Avg Precision: 0.9985154206326495\n",
      "Avg Recall: 0.9698045996293821\n",
      "Avg F1 Score: 0.9839497048854907\n",
      "Avg AUPRC: 0.9784298802943636\n"
     ]
    }
   ],
   "source": [
    "print(\"--RFC + SMOTE + NearMiss--\")\n",
    "\n",
    "# separate data\n",
    "x = data.drop('Class', axis=1)\n",
    "y = data['Class']\n",
    "\n",
    "smt = SMOTE(random_state=13, sampling_strategy=0.4)\n",
    "x, y = smt.fit_resample(x, y)\n",
    "\n",
    "# under sample with near miss  \n",
    "nm = NearMiss(sampling_strategy=0.5)\n",
    "x, y = nm.fit_resample(x, y)\n",
    "\n",
    "# using stratified kfold for imbalanced dataset to validate\n",
    "sfk = StratifiedKFold(n_splits=5, shuffle=True, random_state=42)\n",
    "\n",
    "fold = 1\n",
    "\n",
    "# used to track results after all k folds validations\n",
    "res_acc = []\n",
    "res_prec = []\n",
    "res_rec = []\n",
    "res_f1 = []\n",
    "res_auprc = []\n",
    "\n",
    "\n",
    "# loop over every fold\n",
    "for train_idx, test_idx in sfk.split(x, y):\n",
    "    x = data.drop('Class', axis=1)\n",
    "    y = data['Class']\n",
    "\n",
    "    smt = SMOTE(random_state=13, sampling_strategy=0.4)\n",
    "    x, y = smt.fit_resample(x, y)\n",
    "    \n",
    "    # under sample with near miss  \n",
    "    nm = NearMiss(sampling_strategy=0.5)\n",
    "    x, y = nm.fit_resample(x, y)\n",
    "    \n",
    "    print(f\"Fold: {fold} | Valid: {np.bincount(y)[0]} | Fraud: {np.bincount(y)[1]}\")\n",
    "    \n",
    "    # get the training data\n",
    "    x_train, x_test = x.loc[train_idx], x.loc[test_idx]\n",
    "    y_train, y_test = y[train_idx], y[test_idx] \n",
    "\n",
    "    # create the forest classifier model\n",
    "    rfc = RandomForestClassifier(n_estimators=10, max_depth=10, min_samples_split=9, random_state=13)\n",
    "    \n",
    "    # train the model on the data\n",
    "    rfc.fit(x_train, y_train)\n",
    "    \n",
    "    # get predictions\n",
    "    y_pred = rfc.predict(x_test)\n",
    "    print(classification_report(y_test, y_pred))\n",
    "\n",
    "    # solve for accuracy, precision, recall, f1 score and auprc and store for avg\n",
    "    res_acc += [accuracy_score(y_test, y_pred)]\n",
    "    res_prec += [precision_score(y_test, y_pred)]\n",
    "    res_rec += [recall_score(y_test, y_pred)]\n",
    "    res_f1 += [f1_score(y_test, y_pred)]\n",
    "    res_auprc += [average_precision_score(y_test, y_pred)]\n",
    "    \n",
    "    # print current results\n",
    "    results = {\n",
    "        \"Accuracy\": res_acc[-1],\n",
    "        \"Precision\": res_prec[-1],\n",
    "        \"Recall\": res_rec[-1],\n",
    "        \"F1 Score\": res_f1[-1],\n",
    "        \"AUPRC\": res_auprc[-1],\n",
    "    }\n",
    "    \n",
    "    print(\"________________________________\")\n",
    "    for [k, v] in results.items():\n",
    "        print(f\"{k}: {v}\")\n",
    "    print(\"________________________________\")\n",
    "    fold += 1\n",
    "\n",
    "    \n",
    "# show avg results after k folds validation\n",
    "print(\"\\n--Final Results--\")\n",
    "print(f\"Avg Accuracy: {np.mean(res_acc)}\")\n",
    "print(f\"Avg Precision: {np.mean(res_prec)}\")\n",
    "print(f\"Avg Recall: {np.mean(res_rec)}\")\n",
    "print(f\"Avg F1 Score: {np.mean(res_f1)}\")\n",
    "print(f\"Avg AUPRC: {np.mean(res_auprc)}\")\n",
    "\n",
    "final_results[\"RFC_SMOTE_NearMiss\"] = {\n",
    "    \"Accuracy\": np.mean(res_acc),\n",
    "    \"Precision\": np.mean(res_prec),\n",
    "    \"Recall\": np.mean(res_rec),\n",
    "    \"F1 Score\": np.mean(res_f1),\n",
    "    \"AUPRC\": np.mean(res_auprc),\n",
    "}"
   ],
   "metadata": {
    "collapsed": false,
    "ExecuteTime": {
     "end_time": "2023-08-08T18:24:33.701884300Z",
     "start_time": "2023-08-08T18:19:48.401385600Z"
    }
   }
  },
  {
   "cell_type": "code",
   "execution_count": 853,
   "outputs": [
    {
     "name": "stdout",
     "output_type": "stream",
     "text": [
      "--XGB + NearMiss--\n",
      "Fold: 1 | Valid: 984 | Fraud: 492\n",
      "              precision    recall  f1-score   support\n",
      "\n",
      "           0       0.95      0.99      0.97       197\n",
      "           1       0.99      0.90      0.94        99\n",
      "\n",
      "    accuracy                           0.96       296\n",
      "   macro avg       0.97      0.95      0.96       296\n",
      "weighted avg       0.96      0.96      0.96       296\n",
      "\n",
      "________________________________\n",
      "Accuracy: 0.9628378378378378\n",
      "Precision: 0.9888888888888889\n",
      "Recall: 0.898989898989899\n",
      "F1 Score: 0.9417989417989419\n",
      "AUPRC: 0.9227849061182395\n",
      "________________________________\n",
      "Fold: 2 | Valid: 984 | Fraud: 492\n",
      "              precision    recall  f1-score   support\n",
      "\n",
      "           0       0.96      0.99      0.98       197\n",
      "           1       0.99      0.91      0.95        98\n",
      "\n",
      "    accuracy                           0.97       295\n",
      "   macro avg       0.97      0.95      0.96       295\n",
      "weighted avg       0.97      0.97      0.97       295\n",
      "\n",
      "________________________________\n",
      "Accuracy: 0.9661016949152542\n",
      "Precision: 0.9888888888888889\n",
      "Recall: 0.9081632653061225\n",
      "F1 Score: 0.946808510638298\n",
      "AUPRC: 0.9285810369345479\n",
      "________________________________\n",
      "Fold: 3 | Valid: 984 | Fraud: 492\n",
      "              precision    recall  f1-score   support\n",
      "\n",
      "           0       0.97      0.99      0.98       197\n",
      "           1       0.99      0.94      0.96        98\n",
      "\n",
      "    accuracy                           0.98       295\n",
      "   macro avg       0.98      0.97      0.97       295\n",
      "weighted avg       0.98      0.98      0.98       295\n",
      "\n",
      "________________________________\n",
      "Accuracy: 0.976271186440678\n",
      "Precision: 0.989247311827957\n",
      "Recall: 0.9387755102040817\n",
      "F1 Score: 0.9633507853403142\n",
      "AUPRC: 0.9490201329301541\n",
      "________________________________\n",
      "Fold: 4 | Valid: 984 | Fraud: 492\n",
      "              precision    recall  f1-score   support\n",
      "\n",
      "           0       0.96      0.98      0.97       197\n",
      "           1       0.97      0.91      0.94        98\n",
      "\n",
      "    accuracy                           0.96       295\n",
      "   macro avg       0.96      0.95      0.95       295\n",
      "weighted avg       0.96      0.96      0.96       295\n",
      "\n",
      "________________________________\n",
      "Accuracy: 0.9593220338983051\n",
      "Precision: 0.967391304347826\n",
      "Recall: 0.9081632653061225\n",
      "F1 Score: 0.9368421052631578\n",
      "AUPRC: 0.9090577203615418\n",
      "________________________________\n",
      "Fold: 5 | Valid: 984 | Fraud: 492\n",
      "              precision    recall  f1-score   support\n",
      "\n",
      "           0       0.97      0.99      0.98       196\n",
      "           1       0.98      0.94      0.96        99\n",
      "\n",
      "    accuracy                           0.97       295\n",
      "   macro avg       0.97      0.96      0.97       295\n",
      "weighted avg       0.97      0.97      0.97       295\n",
      "\n",
      "________________________________\n",
      "Accuracy: 0.9728813559322034\n",
      "Precision: 0.9789473684210527\n",
      "Recall: 0.9393939393939394\n",
      "F1 Score: 0.9587628865979383\n",
      "AUPRC: 0.9399562079312304\n",
      "________________________________\n",
      "\n",
      "--Final Results--\n",
      "Avg Accuracy: 0.9674828218048557\n",
      "Avg Precision: 0.9826727524749227\n",
      "Avg Recall: 0.9186971758400329\n",
      "Avg F1 Score: 0.94951264592773\n",
      "Avg AUPRC: 0.9298800008551427\n"
     ]
    }
   ],
   "source": [
    "print(\"--XGB + NearMiss--\")\n",
    "\n",
    "# near miss only\n",
    "# separate data\n",
    "x = data.drop('Class', axis=1)\n",
    "y = data['Class']\n",
    "\n",
    "\n",
    "# under sample with near miss  \n",
    "nm = NearMiss(sampling_strategy=0.5)\n",
    "x, y = nm.fit_resample(x, y)\n",
    "\n",
    "# using stratified kfold for imbalanced dataset to validate\n",
    "sfk = StratifiedKFold(n_splits=5, shuffle=True, random_state=42)\n",
    "\n",
    "fold = 1\n",
    "\n",
    "# used to track results after all k folds validations\n",
    "res_acc = []\n",
    "res_prec = []\n",
    "res_rec = []\n",
    "res_f1 = []\n",
    "res_auprc = []\n",
    "\n",
    "# loop over every fold\n",
    "for train_idx, test_idx in sfk.split(x, y):\n",
    "\n",
    "    print(f\"Fold: {fold} | Valid: {np.bincount(y)[0]} | Fraud: {np.bincount(y)[1]}\")\n",
    "    \n",
    "    # get the training data\n",
    "    x_train, x_test = x.loc[train_idx], x.loc[test_idx]\n",
    "    y_train, y_test = y[train_idx], y[test_idx] \n",
    "    \n",
    "    # create the forest classifier model\n",
    "    xgb = XGBClassifier(n_estimators=10, max_delta_step=1, eval_metric='aucpr', random_state=42)\n",
    "\n",
    "    # train the data\n",
    "    xgb.fit(x_train, y_train)\n",
    "\n",
    "    # get predictions\n",
    "    y_pred_xgb = xgb.predict(x_test)\n",
    "    print(classification_report(y_test, y_pred_xgb))\n",
    "\n",
    "    # solve for accuracy, precision, recall, f1 score and auprc and store for avg\n",
    "    res_acc += [accuracy_score(y_test, y_pred_xgb)]\n",
    "    res_prec += [precision_score(y_test, y_pred_xgb)]\n",
    "    res_rec += [recall_score(y_test, y_pred_xgb)]\n",
    "    res_f1 += [f1_score(y_test, y_pred_xgb)]\n",
    "    res_auprc += [average_precision_score(y_test, y_pred_xgb)]\n",
    "    \n",
    "    # print current results\n",
    "    results = {\n",
    "        \"Accuracy\": res_acc[-1],\n",
    "        \"Precision\": res_prec[-1],\n",
    "        \"Recall\": res_rec[-1],\n",
    "        \"F1 Score\": res_f1[-1],\n",
    "        \"AUPRC\": res_auprc[-1],\n",
    "    }\n",
    "    \n",
    "    print(\"________________________________\")\n",
    "    for [k, v] in results.items():\n",
    "        print(f\"{k}: {v}\")\n",
    "    print(\"________________________________\")\n",
    "    \n",
    "    #precision, recall, _ = precision_recall_curve(y_test, y_pred_xgb)\n",
    "    #disp = PrecisionRecallDisplay(precision=precision, recall=recall)\n",
    "    #disp.plot()\n",
    "    #plt.show()\n",
    "    \n",
    "    fold += 1\n",
    "    \n",
    "# show avg results after k folds validation\n",
    "print(\"\\n--Final Results--\")\n",
    "print(f\"Avg Accuracy: {np.mean(res_acc)}\")\n",
    "print(f\"Avg Precision: {np.mean(res_prec)}\")\n",
    "print(f\"Avg Recall: {np.mean(res_rec)}\")\n",
    "print(f\"Avg F1 Score: {np.mean(res_f1)}\")\n",
    "print(f\"Avg AUPRC: {np.mean(res_auprc)}\")\n",
    "\n",
    "final_results[\"XGB_NearMiss\"] = {\n",
    "    \"Accuracy\": np.mean(res_acc),\n",
    "    \"Precision\": np.mean(res_prec),\n",
    "    \"Recall\": np.mean(res_rec),\n",
    "    \"F1 Score\": np.mean(res_f1),\n",
    "    \"AUPRC\": np.mean(res_auprc),\n",
    "}"
   ],
   "metadata": {
    "collapsed": false,
    "ExecuteTime": {
     "end_time": "2023-08-08T18:24:34.353884800Z",
     "start_time": "2023-08-08T18:24:33.707384800Z"
    }
   }
  },
  {
   "cell_type": "code",
   "execution_count": 854,
   "outputs": [
    {
     "name": "stdout",
     "output_type": "stream",
     "text": [
      "--XGB + SMOTE + NearMiss--\n",
      "Fold: 1 | Valid: 227452 | Fraud: 113726\n",
      "              precision    recall  f1-score   support\n",
      "\n",
      "           0       0.99      1.00      0.99     45491\n",
      "           1       0.99      0.97      0.98     22745\n",
      "\n",
      "    accuracy                           0.99     68236\n",
      "   macro avg       0.99      0.98      0.99     68236\n",
      "weighted avg       0.99      0.99      0.99     68236\n",
      "\n",
      "________________________________\n",
      "Accuracy: 0.988349258455947\n",
      "Precision: 0.9938354931605472\n",
      "Recall: 0.9710705649593318\n",
      "F1 Score: 0.9823211545731504\n",
      "AUPRC: 0.9747273975131139\n",
      "________________________________\n",
      "Fold: 2 | Valid: 227452 | Fraud: 113726\n",
      "              precision    recall  f1-score   support\n",
      "\n",
      "           0       0.98      1.00      0.99     45491\n",
      "           1       0.99      0.97      0.98     22745\n",
      "\n",
      "    accuracy                           0.99     68236\n",
      "   macro avg       0.99      0.98      0.99     68236\n",
      "weighted avg       0.99      0.99      0.99     68236\n",
      "\n",
      "________________________________\n",
      "Accuracy: 0.9869863415206049\n",
      "Precision: 0.9932746558338975\n",
      "Recall: 0.9675093427126841\n",
      "F1 Score: 0.9802227171492205\n",
      "AUPRC: 0.9718325697777074\n",
      "________________________________\n",
      "Fold: 3 | Valid: 227452 | Fraud: 113726\n",
      "              precision    recall  f1-score   support\n",
      "\n",
      "           0       0.99      1.00      0.99     45490\n",
      "           1       0.99      0.97      0.98     22746\n",
      "\n",
      "    accuracy                           0.99     68236\n",
      "   macro avg       0.99      0.98      0.99     68236\n",
      "weighted avg       0.99      0.99      0.99     68236\n",
      "\n",
      "________________________________\n",
      "Accuracy: 0.9878363327275925\n",
      "Precision: 0.9933369349900955\n",
      "Recall: 0.9700167062340631\n",
      "F1 Score: 0.9815383246585702\n",
      "AUPRC: 0.9735481460522404\n",
      "________________________________\n",
      "Fold: 4 | Valid: 227452 | Fraud: 113726\n",
      "              precision    recall  f1-score   support\n",
      "\n",
      "           0       0.99      1.00      0.99     45490\n",
      "           1       0.99      0.97      0.98     22745\n",
      "\n",
      "    accuracy                           0.99     68235\n",
      "   macro avg       0.99      0.98      0.99     68235\n",
      "weighted avg       0.99      0.99      0.99     68235\n",
      "\n",
      "________________________________\n",
      "Accuracy: 0.9881439144134242\n",
      "Precision: 0.9935649356493564\n",
      "Recall: 0.9707188393053419\n",
      "F1 Score: 0.9820090288433742\n",
      "AUPRC: 0.9742325880062493\n",
      "________________________________\n",
      "Fold: 5 | Valid: 227452 | Fraud: 113726\n",
      "              precision    recall  f1-score   support\n",
      "\n",
      "           0       0.99      1.00      0.99     45490\n",
      "           1       0.99      0.97      0.98     22745\n",
      "\n",
      "    accuracy                           0.99     68235\n",
      "   macro avg       0.99      0.98      0.99     68235\n",
      "weighted avg       0.99      0.99      0.99     68235\n",
      "\n",
      "________________________________\n",
      "Accuracy: 0.9883490877115849\n",
      "Precision: 0.9942357921282536\n",
      "Recall: 0.9706748735985931\n",
      "F1 Score: 0.9823140753264666\n",
      "AUPRC: 0.974854743985092\n",
      "________________________________\n",
      "\n",
      "--Final Results--\n",
      "Avg Accuracy: 0.9879329869658307\n",
      "Avg Precision: 0.99364956235243\n",
      "Avg Recall: 0.9699980653620027\n",
      "Avg F1 Score: 0.9816810601101563\n",
      "Avg AUPRC: 0.9738390890668807\n"
     ]
    }
   ],
   "source": [
    "print(\"--XGB + SMOTE + NearMiss--\")\n",
    "\n",
    "# separate data\n",
    "x = data.drop('Class', axis=1)\n",
    "y = data['Class']\n",
    "\n",
    "\n",
    "smt = SMOTE(random_state=13, sampling_strategy=0.4)\n",
    "x, y = smt.fit_resample(x, y)\n",
    "\n",
    "# under sample with near miss  \n",
    "nm = NearMiss(sampling_strategy=0.5)\n",
    "x, y = nm.fit_resample(x, y)\n",
    "\n",
    "\n",
    "# using stratified kfold for imbalanced dataset to validate\n",
    "sfk = StratifiedKFold(n_splits=5, shuffle=True, random_state=42)\n",
    "\n",
    "fold = 1\n",
    "\n",
    "# used to track results after all k folds validations\n",
    "res_acc = []\n",
    "res_prec = []\n",
    "res_rec = []\n",
    "res_f1 = []\n",
    "res_auprc = []\n",
    "\n",
    "# loop over every fold\n",
    "for train_idx, test_idx in sfk.split(x, y):\n",
    "\n",
    "    print(f\"Fold: {fold} | Valid: {np.bincount(y)[0]} | Fraud: {np.bincount(y)[1]}\")\n",
    "    \n",
    "    # get the training data\n",
    "    x_train, x_test = x.loc[train_idx], x.loc[test_idx]\n",
    "    y_train, y_test = y[train_idx], y[test_idx] \n",
    "    \n",
    "    # create the forest classifier model\n",
    "    xgb = XGBClassifier(n_estimators=10, max_delta_step=1, eval_metric='aucpr', random_state=42)\n",
    "\n",
    "    # train the data\n",
    "    xgb.fit(x_train, y_train)\n",
    "\n",
    "    # get predictions\n",
    "    y_pred_xgb = xgb.predict(x_test)\n",
    "    print(classification_report(y_test, y_pred_xgb))\n",
    "\n",
    "    # solve for accuracy, precision, recall, f1 score and auprc and store for avg\n",
    "    res_acc += [accuracy_score(y_test, y_pred_xgb)]\n",
    "    res_prec += [precision_score(y_test, y_pred_xgb)]\n",
    "    res_rec += [recall_score(y_test, y_pred_xgb)]\n",
    "    res_f1 += [f1_score(y_test, y_pred_xgb)]\n",
    "    res_auprc += [average_precision_score(y_test, y_pred_xgb)]\n",
    "    \n",
    "    # print current results\n",
    "    results = {\n",
    "        \"Accuracy\": res_acc[-1],\n",
    "        \"Precision\": res_prec[-1],\n",
    "        \"Recall\": res_rec[-1],\n",
    "        \"F1 Score\": res_f1[-1],\n",
    "        \"AUPRC\": res_auprc[-1],\n",
    "    }\n",
    "    \n",
    "    print(\"________________________________\")\n",
    "    for [k, v] in results.items():\n",
    "        print(f\"{k}: {v}\")\n",
    "    print(\"________________________________\")\n",
    "    \n",
    "    \n",
    "    #precision, recall, _ = precision_recall_curve(y_test, y_pred_xgb)\n",
    "    #disp = PrecisionRecallDisplay(precision=precision, recall=recall)\n",
    "    #disp.plot()\n",
    "    #plt.show()\n",
    "    \n",
    "    fold += 1\n",
    "\n",
    "# show avg results after k folds validation\n",
    "print(\"\\n--Final Results--\")\n",
    "print(f\"Avg Accuracy: {np.mean(res_acc)}\")\n",
    "print(f\"Avg Precision: {np.mean(res_prec)}\")\n",
    "print(f\"Avg Recall: {np.mean(res_rec)}\")\n",
    "print(f\"Avg F1 Score: {np.mean(res_f1)}\")\n",
    "print(f\"Avg AUPRC: {np.mean(res_auprc)}\")   \n",
    "\n",
    "final_results[\"XGB_SMOTE_NearMiss\"] = {\n",
    "    \"Accuracy\": np.mean(res_acc),\n",
    "    \"Precision\": np.mean(res_prec),\n",
    "    \"Recall\": np.mean(res_rec),\n",
    "    \"F1 Score\": np.mean(res_f1),\n",
    "    \"AUPRC\": np.mean(res_auprc),\n",
    "}"
   ],
   "metadata": {
    "collapsed": false,
    "ExecuteTime": {
     "end_time": "2023-08-08T18:25:16.249886100Z",
     "start_time": "2023-08-08T18:24:34.360884600Z"
    }
   }
  },
  {
   "cell_type": "code",
   "execution_count": 855,
   "outputs": [
    {
     "name": "stdout",
     "output_type": "stream",
     "text": [
      "________________________________\n",
      "RFC_BASELINE\n",
      "\tAccuracy: 0.9995435553526912\n",
      "\tPrecision: 0.95\n",
      "\tRecall: 0.7755102040816326\n",
      "\tF1 Score: 0.8539325842696629\n",
      "\tAUPRC: 0.7371209162714276\n",
      "\n",
      "\n",
      "XGB_BASELINE\n",
      "\tAccuracy: 0.9996137776061234\n",
      "\tPrecision: 0.9634146341463414\n",
      "\tRecall: 0.8061224489795918\n",
      "\tF1 Score: 0.8777777777777778\n",
      "\tAUPRC: 0.7769637199646289\n",
      "\n",
      "\n",
      "RFC_SMOTE\n",
      "\tAccuracy: 0.999511950469036\n",
      "\tPrecision: 0.9409641236198694\n",
      "\tRecall: 0.766295609152752\n",
      "\tF1 Score: 0.8444745495739102\n",
      "\tAUPRC: 0.7214041418115088\n",
      "\n",
      "\n",
      "RFC_NearMiss\n",
      "\tAccuracy: 0.967485112230875\n",
      "\tPrecision: 0.9869961406429615\n",
      "\tRecall: 0.9146361574933003\n",
      "\tF1 Score: 0.9492638076545395\n",
      "\tAUPRC: 0.9311241567842726\n",
      "\n",
      "\n",
      "RFC_SMOTE_NearMiss\n",
      "\tAccuracy: 0.9894541820347869\n",
      "\tPrecision: 0.9985154206326495\n",
      "\tRecall: 0.9698045996293821\n",
      "\tF1 Score: 0.9839497048854907\n",
      "\tAUPRC: 0.9784298802943636\n",
      "\n",
      "\n",
      "XGB_NearMiss\n",
      "\tAccuracy: 0.9674828218048557\n",
      "\tPrecision: 0.9826727524749227\n",
      "\tRecall: 0.9186971758400329\n",
      "\tF1 Score: 0.94951264592773\n",
      "\tAUPRC: 0.9298800008551427\n",
      "\n",
      "\n",
      "XGB_SMOTE_NearMiss\n",
      "\tAccuracy: 0.9879329869658307\n",
      "\tPrecision: 0.99364956235243\n",
      "\tRecall: 0.9699980653620027\n",
      "\tF1 Score: 0.9816810601101563\n",
      "\tAUPRC: 0.9738390890668807\n"
     ]
    }
   ],
   "source": [
    "print(\"________________________________\")\n",
    "for [k, v] in final_results.items():\n",
    "    print(k)\n",
    "    for [ke, va] in v.items():\n",
    "        print(f\"\\t{ke}: {va}\")\n",
    "    print(\"\\n\")"
   ],
   "metadata": {
    "collapsed": false,
    "ExecuteTime": {
     "end_time": "2023-08-08T18:25:16.309885Z",
     "start_time": "2023-08-08T18:25:16.251385600Z"
    }
   }
  }
 ],
 "metadata": {
  "kernelspec": {
   "display_name": "Python 3",
   "language": "python",
   "name": "python3"
  },
  "language_info": {
   "codemirror_mode": {
    "name": "ipython",
    "version": 2
   },
   "file_extension": ".py",
   "mimetype": "text/x-python",
   "name": "python",
   "nbconvert_exporter": "python",
   "pygments_lexer": "ipython2",
   "version": "2.7.6"
  }
 },
 "nbformat": 4,
 "nbformat_minor": 0
}
